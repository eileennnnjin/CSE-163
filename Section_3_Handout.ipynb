{
  "nbformat": 4,
  "nbformat_minor": 0,
  "metadata": {
    "colab": {
      "name": "Section-3-Handout.ipynb",
      "provenance": [],
      "collapsed_sections": [],
      "include_colab_link": true
    },
    "kernelspec": {
      "name": "python3",
      "display_name": "Python 3"
    }
  },
  "cells": [
    {
      "cell_type": "markdown",
      "metadata": {
        "id": "view-in-github",
        "colab_type": "text"
      },
      "source": [
        "<a href=\"https://colab.research.google.com/github/eileennnnjin/CSE-163/blob/master/Section_3_Handout.ipynb\" target=\"_parent\"><img src=\"https://colab.research.google.com/assets/colab-badge.svg\" alt=\"Open In Colab\"/></a>"
      ]
    },
    {
      "cell_type": "markdown",
      "metadata": {
        "id": "rFTA5UxD9Wtw",
        "colab_type": "text"
      },
      "source": [
        "# Setup\n",
        "\n",
        "Run the following code before working on any problem to import util functions used to test your code"
      ]
    },
    {
      "cell_type": "code",
      "metadata": {
        "id": "_qK_Lf4FbwY5",
        "colab_type": "code",
        "colab": {}
      },
      "source": [
        "import requests\n",
        "\n",
        "def save_file(url, file_name):\n",
        "  r = requests.get(url)\n",
        "  with open(file_name, 'wb') as f:\n",
        "    f.write(r.content)\n",
        "\n",
        "save_file('https://courses.cs.washington.edu/courses/cse163/19sp/files/section/'\n",
        "          + '04-18/cancer.csv', 'cancer.csv')\n",
        "save_file('https://courses.cs.washington.edu/courses/cse163/20wi/files/section/'\n",
        "          + 'section02/cse163_utils.py', 'cse163_utils.py')"
      ],
      "execution_count": 0,
      "outputs": []
    },
    {
      "cell_type": "code",
      "metadata": {
        "id": "fdqZGCH39jv5",
        "colab_type": "code",
        "colab": {}
      },
      "source": [
        "import pandas as pd\n",
        "import seaborn as sns\n",
        "import matplotlib.pyplot as plt\n",
        "\n",
        "from cse163_utils import assert_equals, check_approx_equals"
      ],
      "execution_count": 0,
      "outputs": []
    },
    {
      "cell_type": "markdown",
      "metadata": {
        "id": "E4qRJKh0Imxa",
        "colab_type": "text"
      },
      "source": [
        "# Problem 1: Pandas Continued"
      ]
    },
    {
      "cell_type": "markdown",
      "metadata": {
        "id": "7oHmRF2zItlt",
        "colab_type": "text"
      },
      "source": [
        "Run the following code to import data about cancer rates into a pandas dataframe called df. Note the names of the columns, as these will be useful for the functions you'll be required to write"
      ]
    },
    {
      "cell_type": "code",
      "metadata": {
        "id": "6N_2AKItItCZ",
        "colab_type": "code",
        "colab": {
          "base_uri": "https://localhost:8080/",
          "height": 206
        },
        "outputId": "064285e0-1804-4663-8efa-884405974eff"
      },
      "source": [
        "df = pd.read_csv('cancer.csv')\n",
        "\n",
        "df.head()"
      ],
      "execution_count": 4,
      "outputs": [
        {
          "output_type": "execute_result",
          "data": {
            "text/html": [
              "<div>\n",
              "<style scoped>\n",
              "    .dataframe tbody tr th:only-of-type {\n",
              "        vertical-align: middle;\n",
              "    }\n",
              "\n",
              "    .dataframe tbody tr th {\n",
              "        vertical-align: top;\n",
              "    }\n",
              "\n",
              "    .dataframe thead th {\n",
              "        text-align: right;\n",
              "    }\n",
              "</style>\n",
              "<table border=\"1\" class=\"dataframe\">\n",
              "  <thead>\n",
              "    <tr style=\"text-align: right;\">\n",
              "      <th></th>\n",
              "      <th>Area</th>\n",
              "      <th>Count</th>\n",
              "      <th>Event Type</th>\n",
              "      <th>Population</th>\n",
              "      <th>Race</th>\n",
              "      <th>Sex</th>\n",
              "      <th>Year</th>\n",
              "    </tr>\n",
              "  </thead>\n",
              "  <tbody>\n",
              "    <tr>\n",
              "      <th>0</th>\n",
              "      <td>Alabama</td>\n",
              "      <td>4366</td>\n",
              "      <td>Mortality</td>\n",
              "      <td>2293259</td>\n",
              "      <td>All Races</td>\n",
              "      <td>Female</td>\n",
              "      <td>1999</td>\n",
              "    </tr>\n",
              "    <tr>\n",
              "      <th>1</th>\n",
              "      <td>Alabama</td>\n",
              "      <td>9452</td>\n",
              "      <td>Incidence</td>\n",
              "      <td>2302835</td>\n",
              "      <td>All Races</td>\n",
              "      <td>Female</td>\n",
              "      <td>2000</td>\n",
              "    </tr>\n",
              "    <tr>\n",
              "      <th>2</th>\n",
              "      <td>Alabama</td>\n",
              "      <td>4425</td>\n",
              "      <td>Mortality</td>\n",
              "      <td>2302835</td>\n",
              "      <td>All Races</td>\n",
              "      <td>Female</td>\n",
              "      <td>2000</td>\n",
              "    </tr>\n",
              "    <tr>\n",
              "      <th>3</th>\n",
              "      <td>Alabama</td>\n",
              "      <td>9938</td>\n",
              "      <td>Incidence</td>\n",
              "      <td>2309496</td>\n",
              "      <td>All Races</td>\n",
              "      <td>Female</td>\n",
              "      <td>2001</td>\n",
              "    </tr>\n",
              "    <tr>\n",
              "      <th>4</th>\n",
              "      <td>Alabama</td>\n",
              "      <td>4550</td>\n",
              "      <td>Mortality</td>\n",
              "      <td>2309496</td>\n",
              "      <td>All Races</td>\n",
              "      <td>Female</td>\n",
              "      <td>2001</td>\n",
              "    </tr>\n",
              "  </tbody>\n",
              "</table>\n",
              "</div>"
            ],
            "text/plain": [
              "      Area  Count Event Type  Population       Race     Sex  Year\n",
              "0  Alabama   4366  Mortality     2293259  All Races  Female  1999\n",
              "1  Alabama   9452  Incidence     2302835  All Races  Female  2000\n",
              "2  Alabama   4425  Mortality     2302835  All Races  Female  2000\n",
              "3  Alabama   9938  Incidence     2309496  All Races  Female  2001\n",
              "4  Alabama   4550  Mortality     2309496  All Races  Female  2001"
            ]
          },
          "metadata": {
            "tags": []
          },
          "execution_count": 4
        }
      ]
    },
    {
      "cell_type": "markdown",
      "metadata": {
        "id": "2QfzOyDr7mKw",
        "colab_type": "text"
      },
      "source": [
        "## Problem 1.1: `washington_rate`\n",
        "\n",
        "Write a function named `washington_rate` that accepts a Pandas dataframe and returns the complete row of data for all information about cancer deaths (Event Type = Mortality) that occurred in Washington (Area = Washington)"
      ]
    },
    {
      "cell_type": "code",
      "metadata": {
        "id": "NP8BRD039Q-B",
        "colab_type": "code",
        "colab": {}
      },
      "source": [
        "# Type your solution here\n",
        "def washington_rate(data):\n",
        "  area = data['Area'] == 'Washington'\n",
        "  event = data['Event Type'] == 'Mortality'\n",
        "  return data[area & event]\n"
      ],
      "execution_count": 0,
      "outputs": []
    },
    {
      "cell_type": "code",
      "metadata": {
        "id": "v2B1VWfZ9SuR",
        "colab_type": "code",
        "colab": {
          "base_uri": "https://localhost:8080/",
          "height": 121
        },
        "outputId": "ab7d1c30-c973-427e-a2cd-4297389d9e36"
      },
      "source": [
        "# Test\n",
        "wr = washington_rate(df)\n",
        "print(wr.head())\n",
        "\n",
        "assert_equals(168, len(wr))\n",
        "assert_equals(803464, wr['Count'].sum())"
      ],
      "execution_count": 6,
      "outputs": [
        {
          "output_type": "stream",
          "text": [
            "             Area  Count Event Type  Population       Race     Sex  Year\n",
            "19825  Washington   5126  Mortality     2934901  All Races  Female  1999\n",
            "19827  Washington   5212  Mortality     2967734  All Races  Female  2000\n",
            "19829  Washington   5224  Mortality     3002080  All Races  Female  2001\n",
            "19831  Washington   5276  Mortality     3036742  All Races  Female  2002\n",
            "19833  Washington   5414  Mortality     3065739  All Races  Female  2003\n"
          ],
          "name": "stdout"
        }
      ]
    },
    {
      "cell_type": "markdown",
      "metadata": {
        "id": "-xnjbQwOH_I2",
        "colab_type": "text"
      },
      "source": [
        "## Problem 1.2: `either_area_rate`\n",
        "\n",
        "Write a function `either_area_rate` that that accepts a Pandas dataframe, an area a1, and an area a2 and returns the complete row of data for all information about cancer deaths (Event Type = Mortality) that occurred in an Area equal to a1 or a2.\n",
        "\n",
        "If a2 is not specified, it should default to Washington. So, the call to `either_area_rate(df, Nevada)` would return rows with an area of Washington or Nevada.\n",
        "Note that the function should still be able to take two parameters: `either_area_rate(df, Ohio, Michigan)` should return rows in Ohio or Michigan.\n",
        "\n",
        "Note: This function will be similar to 1.1!\n"
      ]
    },
    {
      "cell_type": "code",
      "metadata": {
        "id": "luHWgoHWIZTz",
        "colab_type": "code",
        "colab": {}
      },
      "source": [
        "# Type your solution here\n",
        "def either_area_rate(df, area1, area2='Washington'):\n",
        "  area = (df['Area'] == area1) | (df['Area'] == area2)\n",
        "  event = df['Event Type'] == 'Mortality'\n",
        "  return df[area & event]\n"
      ],
      "execution_count": 0,
      "outputs": []
    },
    {
      "cell_type": "code",
      "metadata": {
        "id": "kjfRn1AiIb09",
        "colab_type": "code",
        "colab": {
          "base_uri": "https://localhost:8080/",
          "height": 121
        },
        "outputId": "d999f08d-f1a5-4b71-9716-c14e076ead1c"
      },
      "source": [
        "# Test 1\n",
        "nev_col = either_area_rate(df, 'Nevada', 'Colorado')\n",
        "print(nev_col.head())\n",
        "\n",
        "assert_equals(336, len(nev_col))\n",
        "assert_equals(794626, nev_col['Count'].sum())"
      ],
      "execution_count": 8,
      "outputs": [
        {
          "output_type": "stream",
          "text": [
            "          Area  Count Event Type  Population       Race     Sex  Year\n",
            "1801  Colorado   2874  Mortality     2101358  All Races  Female  1999\n",
            "1803  Colorado   2902  Mortality     2147742  All Races  Female  2000\n",
            "1805  Colorado   3095  Mortality     2195705  All Races  Female  2001\n",
            "1807  Colorado   3109  Mortality     2228665  All Races  Female  2002\n",
            "1809  Colorado   3110  Mortality     2253214  All Races  Female  2003\n"
          ],
          "name": "stdout"
        }
      ]
    },
    {
      "cell_type": "code",
      "metadata": {
        "id": "oRK6rTFiGYlm",
        "colab_type": "code",
        "colab": {
          "base_uri": "https://localhost:8080/",
          "height": 121
        },
        "outputId": "f55fb69f-5511-4014-bfe2-dcfee7e4708f"
      },
      "source": [
        "# Test 2\n",
        "ohio_wash = either_area_rate(df, 'Ohio')\n",
        "print(ohio_wash.head())\n",
        "\n",
        "assert_equals(336, len(ohio_wash))\n",
        "assert_equals(2607690, ohio_wash['Count'].sum())"
      ],
      "execution_count": 9,
      "outputs": [
        {
          "output_type": "stream",
          "text": [
            "       Area  Count Event Type  Population       Race     Sex  Year\n",
            "14353  Ohio  12305  Mortality     5835017  All Races  Female  1999\n",
            "14355  Ohio  12131  Mortality     5845425  All Races  Female  2000\n",
            "14357  Ohio  11996  Mortality     5853691  All Races  Female  2001\n",
            "14359  Ohio  12253  Mortality     5859385  All Races  Female  2002\n",
            "14361  Ohio  12250  Mortality     5868535  All Races  Female  2003\n"
          ],
          "name": "stdout"
        }
      ]
    },
    {
      "cell_type": "markdown",
      "metadata": {
        "id": "jSmgevRG_2gI",
        "colab_type": "text"
      },
      "source": [
        "## Problem 1.3: `occurrences_in_pop`\n",
        "\n",
        "Write a function named `occurrences_in_pop` that accepts a Pandas dataframe, an integer representing a population minimum `m`, and a given sex ('Male', 'Female', or 'Male and Female') and returns the complete row of data for all cancer incidence (Event Type = Incidence) of the given sex for all data points with population greater than or equal to `m`. Returns None if no records exist that satisfy the given conditions."
      ]
    },
    {
      "cell_type": "code",
      "metadata": {
        "id": "irlcogBqAzRB",
        "colab_type": "code",
        "colab": {}
      },
      "source": [
        "# Type your solution here\n",
        "def occurrences_in_pop(df, popu, sex):\n",
        "  sex = df['Sex'] == sex\n",
        "  population = df['Population'] >= popu\n",
        "  event = df['Event Type'] == 'Incidence'\n",
        "  filter_data = df[sex & population & event]\n",
        "  if len(filter_data) == 0:\n",
        "    return None\n",
        "  return filter_data\n"
      ],
      "execution_count": 0,
      "outputs": []
    },
    {
      "cell_type": "code",
      "metadata": {
        "id": "3yViOYsTBWG-",
        "colab_type": "code",
        "colab": {
          "base_uri": "https://localhost:8080/",
          "height": 121
        },
        "outputId": "db1b70e6-0008-4ada-f13c-14f94cac29eb"
      },
      "source": [
        "# Test 1\n",
        "male_10mil = occurrences_in_pop(df, 10000000, 'Male')\n",
        "print(male_10mil.head())\n",
        "\n",
        "assert_equals(425, len(male_10mil))\n",
        "assert_equals(76938250, male_10mil['Count'].sum())"
      ],
      "execution_count": 11,
      "outputs": [
        {
          "output_type": "stream",
          "text": [
            "            Area  Count Event Type  Population       Race   Sex  Year\n",
            "44       Alabama  67396  Incidence    11515137  All Races  Male  2009\n",
            "706      Arizona  68986  Incidence    15749010  All Races  Male  2009\n",
            "958      Arizona  63324  Incidence    13571975      White  Male  2009\n",
            "1492  California  69293  Incidence    16699043  All Races  Male  1999\n",
            "1494  California  69892  Incidence    16937562  All Races  Male  2000\n"
          ],
          "name": "stdout"
        }
      ]
    },
    {
      "cell_type": "code",
      "metadata": {
        "id": "4JDHmGtuJDam",
        "colab_type": "code",
        "colab": {
          "base_uri": "https://localhost:8080/",
          "height": 139
        },
        "outputId": "05d366b9-2367-4026-ce0f-ec0bcdb27d4a"
      },
      "source": [
        "# Test 2\n",
        "female_500k = occurrences_in_pop(df, 500000, 'Female')\n",
        "print(len(female_500k), female_500k['Count'].sum())\n",
        "print(female_500k.head())\n",
        "\n",
        "assert_equals(2422, len(female_500k))\n",
        "assert_equals(95317826, female_500k['Count'].sum())"
      ],
      "execution_count": 12,
      "outputs": [
        {
          "output_type": "stream",
          "text": [
            "2422 95317826\n",
            "      Area  Count Event Type  Population       Race     Sex  Year\n",
            "1  Alabama   9452  Incidence     2302835  All Races  Female  2000\n",
            "3  Alabama   9938  Incidence     2309496  All Races  Female  2001\n",
            "5  Alabama  10133  Incidence     2314370  All Races  Female  2002\n",
            "7  Alabama   9592  Incidence     2324069  All Races  Female  2003\n",
            "9  Alabama  10221  Incidence     2337857  All Races  Female  2004\n"
          ],
          "name": "stdout"
        }
      ]
    },
    {
      "cell_type": "markdown",
      "metadata": {
        "id": "wFbMJWyxCy3g",
        "colab_type": "text"
      },
      "source": [
        "## Problem 1.4: `deaths_per_year`\n",
        "\n",
        "Write a function named `deaths_per_year` that accepts a Pandas dataframe and returns a series with the number of cancer deaths (Event Type = Mortality) for each year between 2002 - 2008 (inclusive) for both sexes and all races.\n",
        "\n",
        "**Hint:** If you aren't getting the correct numbers, you might want to invesigate the dataset a little more closesly. Here's a block of code you can try printing out if you're stuck!\n",
        "\n",
        "```\n",
        "df.loc[[5, 32, 59]]\n",
        "```"
      ]
    },
    {
      "cell_type": "code",
      "metadata": {
        "id": "apg1AcNqJ8z1",
        "colab_type": "code",
        "colab": {}
      },
      "source": [
        "# Type your solution here\n",
        "def deaths_per_year(df):\n",
        "  event = df['Event Type'] == 'Mortality'\n",
        "  sex = df['Sex'] == 'Male and Female'\n",
        "\n",
        "  # & 两边不要忘记括号\n",
        "  year = (df['Year'] >= 2002) & (df['Year'] <= 2008)\n",
        "  race = df['Race'] == 'All Races'\n",
        "  filter_data = df[event & sex & year & race]\n",
        "  # 记住 groupby的用法\n",
        "  return filter_data.groupby('Year')['Count'].sum()"
      ],
      "execution_count": 0,
      "outputs": []
    },
    {
      "cell_type": "code",
      "metadata": {
        "id": "amSKOptFKft9",
        "colab_type": "code",
        "colab": {
          "base_uri": "https://localhost:8080/",
          "height": 173
        },
        "outputId": "739e65ce-6674-4061-8245-c13c5b51f52b"
      },
      "source": [
        "# Test\n",
        "dpy = deaths_per_year(df)\n",
        "print(dpy)\n",
        "\n",
        "assert_equals(7, len(dpy))\n",
        "assert_equals(11746632, dpy.sum())"
      ],
      "execution_count": 18,
      "outputs": [
        {
          "output_type": "stream",
          "text": [
            "Year\n",
            "2002    1671792\n",
            "2003    1670670\n",
            "2004    1661640\n",
            "2005    1677909\n",
            "2006    1679640\n",
            "2007    1688601\n",
            "2008    1696380\n",
            "Name: Count, dtype: int64\n"
          ],
          "name": "stdout"
        }
      ]
    },
    {
      "cell_type": "markdown",
      "metadata": {
        "id": "4qsLgGNeJnRv",
        "colab_type": "text"
      },
      "source": [
        "# Problem 2: Plotting Code"
      ]
    },
    {
      "cell_type": "markdown",
      "metadata": {
        "id": "wuOprBtDRd30",
        "colab_type": "text"
      },
      "source": [
        "We will be using Seaborn in this section to make visualizations. As mentioned in lecture, Seaborn has great documentation, so you should take this time to read about some of the functions you might need in this class below. Feel free to look at some of the examples included in the links below to determine whether or not you might need to use the function.\n",
        "\n",
        "\n",
        "Here's some seaborn functions you might need for this section:\n",
        "\n",
        "* [Bar/Violin Plot](https://seaborn.pydata.org/generated/seaborn.catplot.html)\n",
        "* [Plot a Distribution](https://seaborn.pydata.org/generated/seaborn.kdeplot.html)\n",
        "* [Scatter/Line Plot](https://seaborn.pydata.org/generated/seaborn.relplot.html)\n",
        "* [Linear Regression Plot](https://seaborn.pydata.org/generated/seaborn.regplot.html)\n",
        "* [Compare Two Variables](https://seaborn.pydata.org/generated/seaborn.jointplot.html)\n",
        "* [Heatmap](https://seaborn.pydata.org/generated/seaborn.heatmap.html#seaborn.heatmap)\n",
        "\n",
        "\n",
        "Note: The Seaborn library has been included at the top and is in a variable named `sns`"
      ]
    },
    {
      "cell_type": "markdown",
      "metadata": {
        "id": "8aU3M3_WVrvT",
        "colab_type": "text"
      },
      "source": [
        "## Problem 2.1: Line Chart\n",
        "\n",
        "Create a function called `plot_line` that accepts a Pandas dataframe and creates and displays a line chart using Seaborn that plots similar information to what you generated in 1.4.  \n",
        "\n",
        "You should generate a line plot, where the years are on the x axis and the count is on the y axis, of the number of cancer deaths (Event Type = Mortality) for each year between 2002 - 2008 (inclusive) for both sexes and all races *in the state of Washington*.\n",
        "\n",
        "**Please provide a descriptive title and axis labels for your generated visualization.**\n",
        "\n",
        "**NOTE:** the information you're plotting in this problem is very similar to problem 1.4, except this time you are constrained to a single area (*only* Washington). This means that you should be able to look up the exact row that corresponds to mortality counts for all races and both sexes in the state of Washington directly **without needing a groupby** (there's nothing to aggregate in this case, since you can look it up directly in the dataframe). Most of the logic for filtering the correct data will be the same as in problem 1.4, so feel free to copy over relevant parts of your solution here."
      ]
    },
    {
      "cell_type": "code",
      "metadata": {
        "id": "z4jiJh6bGAmw",
        "colab_type": "code",
        "colab": {}
      },
      "source": [
        "# Type your solution here\n",
        "def plot_line(df):\n",
        "  both_sexes = df['Sex'] == 'Male and Female'\n",
        "  all_races = df['Race'] == 'All Races'\n",
        "  between_years = (df['Year'] >= 2002) & (df['Year'] <= 2008)\n",
        "  is_mortality = df['Event Type'] == 'Mortality'\n",
        "  in_washington = df['Area'] == 'Washington'\n",
        "  filtered_df = df[between_years & both_sexes & all_races \n",
        "                   & is_mortality & in_washington]\n",
        "  sns.relplot(x='Year', y='Count', data=filtered_df, kind='line')\n",
        "  plt.title('Cancer Death Count vs. Year')\n",
        "  plt.ylabel('Cancer Death Count')\n"
      ],
      "execution_count": 0,
      "outputs": []
    },
    {
      "cell_type": "code",
      "metadata": {
        "id": "74_t6k4qGGDB",
        "colab_type": "code",
        "colab": {
          "base_uri": "https://localhost:8080/",
          "height": 385
        },
        "outputId": "33317201-46b3-4e04-a1ac-b6db0e7300b2"
      },
      "source": [
        "plot_line(df)"
      ],
      "execution_count": 20,
      "outputs": [
        {
          "output_type": "display_data",
          "data": {
            "image/png": "[encoded data removed]",
            "text/plain": [
              "<Figure size 360x360 with 1 Axes>"
            ]
          },
          "metadata": {
            "tags": []
          }
        }
      ]
    },
    {
      "cell_type": "markdown",
      "metadata": {
        "id": "gRPSdHrHVvcO",
        "colab_type": "text"
      },
      "source": [
        "## Problem 2.2: Regression Plot\n",
        "\n",
        "Create a function called `plot_regression` that accepts a Pandas dataframe and crates a linear regression plot between Population and Count for cancer incidence (Event Type = Incidence).\n",
        "\n",
        "**Please provide a descriptive title and axis labels for your generated visualization.**"
      ]
    },
    {
      "cell_type": "code",
      "metadata": {
        "id": "GpD4ve36GDr5",
        "colab_type": "code",
        "colab": {}
      },
      "source": [
        "# Type your solution here\n",
        "def plot_regression(df):\n",
        "  info = df[df['Event Type'] == 'Incidence']\n",
        "  sns.regplot(x='Population', y='Count', data=info)\n",
        "  plt.title('Cancer Death Count vs. Population')\n",
        "  plt.ylabel('Cancer Death Count')"
      ],
      "execution_count": 0,
      "outputs": []
    },
    {
      "cell_type": "code",
      "metadata": {
        "id": "p36wlATI-g12",
        "colab_type": "code",
        "colab": {
          "base_uri": "https://localhost:8080/",
          "height": 295
        },
        "outputId": "e8a4ab97-aca3-419e-e396-96b4118d565f"
      },
      "source": [
        "plot_regression(df)"
      ],
      "execution_count": 22,
      "outputs": [
        {
          "output_type": "display_data",
          "data": {
            "image/png": "[encoded data removed]",
            "text/plain": [
              "<Figure size 432x288 with 1 Axes>"
            ]
          },
          "metadata": {
            "tags": []
          }
        }
      ]
    },
    {
      "cell_type": "markdown",
      "metadata": {
        "id": "C4INijnnJpZs",
        "colab_type": "text"
      },
      "source": [
        "# Problem 3: Discussion\n",
        "\n"
      ]
    },
    {
      "cell_type": "markdown",
      "metadata": {
        "id": "nSzQ04EzDXPk",
        "colab_type": "text"
      },
      "source": [
        "## Problem 3.1\n",
        "Do you think a line chart is an effective visualization in problem 2.1? Explain in 1-2 sentences why or why not.\n",
        "\n",
        "\n",
        "\n",
        "\n"
      ]
    },
    {
      "cell_type": "markdown",
      "metadata": {
        "id": "EumXij6nMMYL",
        "colab_type": "text"
      },
      "source": [
        "Answer: One reason this visualization might not be ideal is that it's only showing the count of cancer rates, but it doesn't take into account the population growth/decrease. It would be hard to make any meaningful conclusions with just the raw count if we didn't take into account any popultion change (for example, maybe the population was growing at the same rate so the cancer )\n",
        "\n",
        "Another good reason might be that the line chart's y axis is pretty constrained, so this visualization might be over-emphasizing the relative change in cancer rates."
      ]
    },
    {
      "cell_type": "markdown",
      "metadata": {
        "id": "UkkYtI0yC2ED",
        "colab_type": "text"
      },
      "source": [
        "## Problem 3.2\n",
        "What do you think are the limitations of this dataset?"
      ]
    },
    {
      "cell_type": "markdown",
      "metadata": {
        "id": "HJ4v4-60MNP3",
        "colab_type": "text"
      },
      "source": [
        "Answer:This dataset only reveals the count of people who have cancer in some area/time. It might be good to have more individual data to work with here (age, job, types of habits (ie. smoking, drinking)), since it might be hard to draw any meaningful conclusions from this data about what is correlated with cancer and the cause of cancer is likely to be more than a factor of area/time"
      ]
    }
  ]
}