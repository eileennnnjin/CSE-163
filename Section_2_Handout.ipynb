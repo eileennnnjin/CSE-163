{
  "nbformat": 4,
  "nbformat_minor": 0,
  "metadata": {
    "colab": {
      "name": "Section-2-Handout.ipynb",
      "provenance": [],
      "collapsed_sections": [],
      "include_colab_link": true
    },
    "kernelspec": {
      "name": "python3",
      "display_name": "Python 3"
    }
  },
  "cells": [
    {
      "cell_type": "markdown",
      "metadata": {
        "id": "view-in-github",
        "colab_type": "text"
      },
      "source": [
        "<a href=\"https://colab.research.google.com/github/eileennnnjin/CSE-163/blob/master/Section_2_Handout.ipynb\" target=\"_parent\"><img src=\"https://colab.research.google.com/assets/colab-badge.svg\" alt=\"Open In Colab\"/></a>"
      ]
    },
    {
      "cell_type": "markdown",
      "metadata": {
        "id": "lFcSaPhRRN7V",
        "colab_type": "text"
      },
      "source": [
        "\n",
        "In Colaboratory, you cannot make permanent changes to this notebook without making a copy to your Google Drive. **Closing the page without copying the notebook to your drive will result in all of your changes being lost.**\n",
        "\n",
        "This week we will focus on doing questions that analyze the csv file section2data.csv. This file contains three columns and contains the answer to the \"Just for fun questions\" that you answered in the starting survey. We also provided you with a smaller file called section2data-truncated.csv which contains a subset of the data from section2data.csv for testing purposes.\n",
        "\n",
        "\n",
        "| number| countries visited | low temperature  | high temperature| ideal weather condition |\n",
        "|--------------|-----------------------------|---------------------------|------------------------------|----------------------------------------|\n",
        "| 1            | 2                              |  50                       | 60                            |Sunny                                 | \n",
        "\n",
        "\n",
        "# Format \n",
        "\n",
        "This document consists of three different parts. The first part lists important functions to call in order to complete testing and parse the file. \n",
        "\n",
        "The next two parts contain problems. \n",
        "\n",
        "Manual problems are problems that are meant to be done by hand using the data structure produced from the parse function. Pandas problems are problems that you do assuming you get passed in a pandas `Dataframe` and using pandas functions. The problems in the manual and pandas sections are the same problems, they just have different restrictions for when you complete the problems. "
      ]
    },
    {
      "cell_type": "markdown",
      "metadata": {
        "id": "A9Icn1nbZP7j",
        "colab_type": "text"
      },
      "source": [
        "# Practice Problems Important functions\n",
        "\n",
        "Reminder: for each of the following problems, there will be a blank cell for you to write the solution and a cell that calls your solution to test if it works. You should use those test cells to see examples of what the function should return for a particular input (the first value passed to `assert_equals` is the expected value). You will have to make sure to run the cell with a solution to your problem BEFORE you run the test cells (otherwise your function won't be defined). \n",
        "\n",
        "For all of these problems, you may assume we will only pass parameters of the specified type and they are not `None`, but otherwise, you should make no assumptions about the parameters\n",
        "\n",
        "**Important:** Please make sure that you have run the following cells before running any of the test cells.\n",
        "\n",
        "`check_approx_equals` allows you to check floats. "
      ]
    },
    {
      "cell_type": "markdown",
      "metadata": {
        "id": "bjVhWDED0zLA",
        "colab_type": "text"
      },
      "source": [
        "You will also need to upload our starter text file section2data.csv by running the following cell."
      ]
    },
    {
      "cell_type": "code",
      "metadata": {
        "id": "0qZzYAhC1FxB",
        "colab_type": "code",
        "colab": {}
      },
      "source": [
        "import requests\n",
        "\n",
        "def save_file(url, file_name):\n",
        "  r = requests.get(url)\n",
        "  with open(file_name, 'wb') as f:\n",
        "    f.write(r.content)\n",
        "\n",
        "save_file('https://courses.cs.washington.edu/courses/cse163/20wi/files/section/'\n",
        "          + 'section02/section2data.csv', 'section2data.csv')\n",
        "save_file('https://courses.cs.washington.edu/courses/cse163/20wi/files/section/'\n",
        "          + 'section02/section2data-truncated.csv', 'section2data-truncated.csv')\n",
        "save_file('https://courses.cs.washington.edu/courses/cse163/20wi/files/section/'\n",
        "          + 'section02/cse163_utils.py', 'cse163_utils.py')"
      ],
      "execution_count": 0,
      "outputs": []
    },
    {
      "cell_type": "markdown",
      "metadata": {
        "id": "6BGRDQteEFSs",
        "colab_type": "text"
      },
      "source": [
        "After running the cell above, run the one below to import the necessary libraries."
      ]
    },
    {
      "cell_type": "code",
      "metadata": {
        "id": "e2F1kw-0aclk",
        "colab_type": "code",
        "colab": {}
      },
      "source": [
        "import math\n",
        "\n",
        "import pandas as pd\n",
        "import requests\n",
        "\n",
        "from cse163_utils import assert_equals, parse"
      ],
      "execution_count": 0,
      "outputs": []
    },
    {
      "cell_type": "code",
      "metadata": {
        "id": "IJ__SUv5If3W",
        "colab_type": "code",
        "colab": {}
      },
      "source": [
        "parsed_entire_file = parse('section2data.csv')\n",
        "parsed_truncated_file = parse('section2data-truncated.csv')"
      ],
      "execution_count": 0,
      "outputs": []
    },
    {
      "cell_type": "code",
      "metadata": {
        "id": "2y62Sa3uD8BI",
        "colab_type": "code",
        "colab": {
          "base_uri": "https://localhost:8080/",
          "height": 54
        },
        "outputId": "e60e1d37-2be0-4d9d-cd20-c5f91e4dd43a"
      },
      "source": [
        "print(parsed_entire_file)"
      ],
      "execution_count": 4,
      "outputs": [
        {
          "output_type": "stream",
          "text": [
            "[{'number': 1, 'countries visited': 2, 'low temperature': 50, 'high temperature': 60, 'ideal weather condition': 'Cloudy'}, {'number': 2, 'countries visited': 13, 'low temperature': 70, 'high temperature': 80, 'ideal weather condition': 'Sunny'}, {'number': 3, 'countries visited': 7, 'low temperature': 60, 'high temperature': 70, 'ideal weather condition': 'Partly Cloudy'}, {'number': 4, 'countries visited': 3, 'low temperature': 60, 'high temperature': 70, 'ideal weather condition': 'Partly Cloudy'}, {'number': 5, 'countries visited': 1, 'low temperature': 40, 'high temperature': 50, 'ideal weather condition': 'Rain'}, {'number': 6, 'countries visited': 8, 'low temperature': 60, 'high temperature': 70, 'ideal weather condition': 'Partly Cloudy'}, {'number': 7, 'countries visited': 1, 'low temperature': 60, 'high temperature': 70, 'ideal weather condition': 'Partly Cloudy'}, {'number': 8, 'countries visited': 8, 'low temperature': 70, 'high temperature': 80, 'ideal weather condition': 'Partly Cloudy'}, {'number': 9, 'countries visited': 2, 'low temperature': 70, 'high temperature': 80, 'ideal weather condition': 'Sunny'}, {'number': 10, 'countries visited': 5, 'low temperature': 70, 'high temperature': 80, 'ideal weather condition': 'Partly Cloudy'}, {'number': 11, 'countries visited': 9, 'low temperature': 70, 'high temperature': 80, 'ideal weather condition': 'Partly Cloudy'}, {'number': 12, 'countries visited': 7, 'low temperature': 80, 'high temperature': 90, 'ideal weather condition': 'Sunny'}, {'number': 13, 'countries visited': 5, 'low temperature': 70, 'high temperature': 80, 'ideal weather condition': 'Sunny'}, {'number': 14, 'countries visited': 9, 'low temperature': 60, 'high temperature': 70, 'ideal weather condition': 'Partly Cloudy'}, {'number': 15, 'countries visited': 5, 'low temperature': 70, 'high temperature': 80, 'ideal weather condition': 'Sunny'}, {'number': 16, 'countries visited': 6, 'low temperature': 60, 'high temperature': 70, 'ideal weather condition': 'Partly Cloudy'}, {'number': 17, 'countries visited': 7, 'low temperature': 60, 'high temperature': 70, 'ideal weather condition': 'Sunny'}, {'number': 18, 'countries visited': 8, 'low temperature': 70, 'high temperature': 80, 'ideal weather condition': 'Sunny'}, {'number': 19, 'countries visited': 3, 'low temperature': 50, 'high temperature': 60, 'ideal weather condition': 'Sunny'}, {'number': 20, 'countries visited': 2, 'low temperature': 80, 'high temperature': 90, 'ideal weather condition': 'Rain'}, {'number': 21, 'countries visited': 5, 'low temperature': 70, 'high temperature': 80, 'ideal weather condition': 'Sunny'}, {'number': 22, 'countries visited': 8, 'low temperature': 60, 'high temperature': 70, 'ideal weather condition': 'Mostly Cloudy'}, {'number': 23, 'countries visited': 2, 'low temperature': 70, 'high temperature': 80, 'ideal weather condition': 'Sunny'}, {'number': 24, 'countries visited': 4, 'low temperature': 60, 'high temperature': 70, 'ideal weather condition': 'Mostly Cloudy'}, {'number': 25, 'countries visited': 2, 'low temperature': 60, 'high temperature': 70, 'ideal weather condition': 'Partly Cloudy'}, {'number': 26, 'countries visited': 10, 'low temperature': 60, 'high temperature': 70, 'ideal weather condition': 'Sunny'}, {'number': 27, 'countries visited': 4, 'low temperature': 70, 'high temperature': 80, 'ideal weather condition': 'Sunny'}, {'number': 28, 'countries visited': 2, 'low temperature': 60, 'high temperature': 70, 'ideal weather condition': 'Partly Cloudy'}, {'number': 29, 'countries visited': 8, 'low temperature': 80, 'high temperature': 90, 'ideal weather condition': 'Sunny'}, {'number': 30, 'countries visited': 3, 'low temperature': 70, 'high temperature': 80, 'ideal weather condition': 'Mostly Cloudy'}, {'number': 31, 'countries visited': 2, 'low temperature': 60, 'high temperature': 70, 'ideal weather condition': 'Rain'}, {'number': 32, 'countries visited': 1, 'low temperature': 70, 'high temperature': 80, 'ideal weather condition': 'Sunny'}, {'number': 33, 'countries visited': 3, 'low temperature': 60, 'high temperature': 70, 'ideal weather condition': 'Partly Cloudy'}, {'number': 34, 'countries visited': 13, 'low temperature': 70, 'high temperature': 80, 'ideal weather condition': 'Partly Cloudy'}, {'number': 35, 'countries visited': 1, 'low temperature': 60, 'high temperature': 70, 'ideal weather condition': 'Rain'}, {'number': 36, 'countries visited': 14, 'low temperature': 70, 'high temperature': 80, 'ideal weather condition': 'Sunny'}, {'number': 37, 'countries visited': 19, 'low temperature': 60, 'high temperature': 70, 'ideal weather condition': 'Sunny'}, {'number': 38, 'countries visited': 3, 'low temperature': 60, 'high temperature': 70, 'ideal weather condition': 'Mostly Cloudy'}, {'number': 39, 'countries visited': 2, 'low temperature': 60, 'high temperature': 70, 'ideal weather condition': 'Partly Cloudy'}, {'number': 40, 'countries visited': 7, 'low temperature': 60, 'high temperature': 70, 'ideal weather condition': 'Cloudy'}, {'number': 41, 'countries visited': 15, 'low temperature': 60, 'high temperature': 70, 'ideal weather condition': 'Partly Cloudy'}, {'number': 42, 'countries visited': 9, 'low temperature': 70, 'high temperature': 80, 'ideal weather condition': 'Partly Cloudy'}, {'number': 43, 'countries visited': 9, 'low temperature': 70, 'high temperature': 80, 'ideal weather condition': 'Sunny'}, {'number': 44, 'countries visited': 2, 'low temperature': 70, 'high temperature': 80, 'ideal weather condition': 'Partly Cloudy'}, {'number': 45, 'countries visited': 4, 'low temperature': 70, 'high temperature': 80, 'ideal weather condition': 'Sunny'}, {'number': 46, 'countries visited': 8, 'low temperature': 50, 'high temperature': 60, 'ideal weather condition': 'Partly Cloudy'}, {'number': 47, 'countries visited': 5, 'low temperature': 80, 'high temperature': 90, 'ideal weather condition': 'Sunny'}, {'number': 48, 'countries visited': 5, 'low temperature': 60, 'high temperature': 70, 'ideal weather condition': 'Partly Cloudy'}, {'number': 49, 'countries visited': 5, 'low temperature': 60, 'high temperature': 70, 'ideal weather condition': 'Partly Cloudy'}, {'number': 50, 'countries visited': 6, 'low temperature': 60, 'high temperature': 70, 'ideal weather condition': 'Partly Cloudy'}, {'number': 51, 'countries visited': 4, 'low temperature': 60, 'high temperature': 70, 'ideal weather condition': 'Sunny'}, {'number': 52, 'countries visited': 12, 'low temperature': 70, 'high temperature': 80, 'ideal weather condition': 'Sunny'}, {'number': 53, 'countries visited': 8, 'low temperature': 60, 'high temperature': 70, 'ideal weather condition': 'Sunny'}, {'number': 54, 'countries visited': 4, 'low temperature': 70, 'high temperature': 80, 'ideal weather condition': 'Partly Cloudy'}, {'number': 55, 'countries visited': 10, 'low temperature': 70, 'high temperature': 80, 'ideal weather condition': 'Partly Cloudy'}, {'number': 56, 'countries visited': 6, 'low temperature': 60, 'high temperature': 70, 'ideal weather condition': 'Sunny'}, {'number': 57, 'countries visited': 6, 'low temperature': 60, 'high temperature': 70, 'ideal weather condition': 'Partly Cloudy'}, {'number': 58, 'countries visited': 3, 'low temperature': 60, 'high temperature': 70, 'ideal weather condition': 'Sunny'}, {'number': 59, 'countries visited': 3, 'low temperature': 70, 'high temperature': 80, 'ideal weather condition': 'Rain'}, {'number': 60, 'countries visited': 6, 'low temperature': 60, 'high temperature': 70, 'ideal weather condition': 'Partly Cloudy'}, {'number': 61, 'countries visited': 13, 'low temperature': 60, 'high temperature': 70, 'ideal weather condition': 'Partly Cloudy'}, {'number': 62, 'countries visited': 9, 'low temperature': 60, 'high temperature': 70, 'ideal weather condition': 'Partly Cloudy'}, {'number': 63, 'countries visited': 5, 'low temperature': 60, 'high temperature': 70, 'ideal weather condition': 'Sunny'}, {'number': 64, 'countries visited': 13, 'low temperature': 30, 'high temperature': 40, 'ideal weather condition': 'Thunder Storm'}, {'number': 65, 'countries visited': 0, 'low temperature': 30, 'high temperature': 40, 'ideal weather condition': 'Rain'}, {'number': 66, 'countries visited': 2, 'low temperature': 70, 'high temperature': 80, 'ideal weather condition': 'Sunny'}, {'number': 67, 'countries visited': 10, 'low temperature': 60, 'high temperature': 70, 'ideal weather condition': 'Sunny'}, {'number': 68, 'countries visited': 6, 'low temperature': 70, 'high temperature': 80, 'ideal weather condition': 'Sunny'}, {'number': 69, 'countries visited': 5, 'low temperature': 50, 'high temperature': 60, 'ideal weather condition': 'Partly Cloudy'}, {'number': 70, 'countries visited': 5, 'low temperature': 50, 'high temperature': 60, 'ideal weather condition': 'Cloudy'}, {'number': 71, 'countries visited': 4, 'low temperature': 60, 'high temperature': 70, 'ideal weather condition': 'Partly Cloudy'}, {'number': 72, 'countries visited': 3, 'low temperature': 70, 'high temperature': 80, 'ideal weather condition': 'Sunny'}, {'number': 73, 'countries visited': 6, 'low temperature': 60, 'high temperature': 70, 'ideal weather condition': 'Partly Cloudy'}, {'number': 74, 'countries visited': 10, 'low temperature': 50, 'high temperature': 60, 'ideal weather condition': 'Partly Cloudy'}, {'number': 75, 'countries visited': 9, 'low temperature': 60, 'high temperature': 70, 'ideal weather condition': 'Partly Cloudy'}, {'number': 76, 'countries visited': 1, 'low temperature': 30, 'high temperature': 40, 'ideal weather condition': 'Partly Cloudy'}, {'number': 77, 'countries visited': 2, 'low temperature': 70, 'high temperature': 80, 'ideal weather condition': 'Sunny'}, {'number': 78, 'countries visited': 12, 'low temperature': 40, 'high temperature': 50, 'ideal weather condition': 'Partly Cloudy'}, {'number': 79, 'countries visited': 2, 'low temperature': 60, 'high temperature': 70, 'ideal weather condition': 'Sunny'}, {'number': 80, 'countries visited': 5, 'low temperature': 50, 'high temperature': 60, 'ideal weather condition': 'Partly Cloudy'}, {'number': 81, 'countries visited': 8, 'low temperature': 60, 'high temperature': 70, 'ideal weather condition': 'Partly Cloudy'}, {'number': 82, 'countries visited': 6, 'low temperature': 70, 'high temperature': 80, 'ideal weather condition': 'Partly Cloudy'}, {'number': 83, 'countries visited': 10, 'low temperature': 70, 'high temperature': 80, 'ideal weather condition': 'Mostly Cloudy'}, {'number': 84, 'countries visited': 15, 'low temperature': 50, 'high temperature': 60, 'ideal weather condition': 'Partly Cloudy'}, {'number': 85, 'countries visited': 6, 'low temperature': 80, 'high temperature': 90, 'ideal weather condition': 'Sunny'}, {'number': 86, 'countries visited': 0, 'low temperature': 50, 'high temperature': 60, 'ideal weather condition': 'Partly Cloudy'}, {'number': 87, 'countries visited': 5, 'low temperature': 60, 'high temperature': 70, 'ideal weather condition': 'Sunny'}, {'number': 88, 'countries visited': 10, 'low temperature': 70, 'high temperature': 80, 'ideal weather condition': 'Sunny'}, {'number': 89, 'countries visited': 8, 'low temperature': 70, 'high temperature': 80, 'ideal weather condition': 'Sunny'}, {'number': 90, 'countries visited': 3, 'low temperature': 0, 'high temperature': 30, 'ideal weather condition': 'Thunder Storm'}, {'number': 91, 'countries visited': 6, 'low temperature': 60, 'high temperature': 70, 'ideal weather condition': 'Mostly Cloudy'}, {'number': 92, 'countries visited': 35, 'low temperature': 70, 'high temperature': 80, 'ideal weather condition': 'Sunny'}, {'number': 93, 'countries visited': 5, 'low temperature': 70, 'high temperature': 80, 'ideal weather condition': 'Sunny'}, {'number': 94, 'countries visited': 8, 'low temperature': 70, 'high temperature': 80, 'ideal weather condition': 'Sunny'}, {'number': 95, 'countries visited': 7, 'low temperature': 60, 'high temperature': 70, 'ideal weather condition': 'Partly Cloudy'}, {'number': 96, 'countries visited': 19, 'low temperature': 70, 'high temperature': 80, 'ideal weather condition': 'Partly Cloudy'}, {'number': 97, 'countries visited': 2, 'low temperature': 50, 'high temperature': 60, 'ideal weather condition': 'Partly Cloudy'}, {'number': 98, 'countries visited': 6, 'low temperature': 60, 'high temperature': 70, 'ideal weather condition': 'Partly Cloudy'}, {'number': 99, 'countries visited': 20, 'low temperature': 90, 'high temperature': 100, 'ideal weather condition': 'Sunny'}, {'number': 100, 'countries visited': 5, 'low temperature': 60, 'high temperature': 70, 'ideal weather condition': 'Sunny'}, {'number': 101, 'countries visited': 6, 'low temperature': 70, 'high temperature': 80, 'ideal weather condition': 'Sunny'}, {'number': 102, 'countries visited': 24, 'low temperature': 40, 'high temperature': 50, 'ideal weather condition': 'Thunder Storm'}, {'number': 103, 'countries visited': 2, 'low temperature': 60, 'high temperature': 70, 'ideal weather condition': 'Partly Cloudy'}, {'number': 104, 'countries visited': 8, 'low temperature': 60, 'high temperature': 70, 'ideal weather condition': 'Sunny'}, {'number': 105, 'countries visited': 3, 'low temperature': 40, 'high temperature': 50, 'ideal weather condition': 'Cloudy'}, {'number': 106, 'countries visited': 15, 'low temperature': 70, 'high temperature': 80, 'ideal weather condition': 'Sunny'}, {'number': 107, 'countries visited': 8, 'low temperature': 50, 'high temperature': 60, 'ideal weather condition': 'Partly Cloudy'}, {'number': 108, 'countries visited': 9, 'low temperature': 70, 'high temperature': 80, 'ideal weather condition': 'Partly Cloudy'}, {'number': 109, 'countries visited': 3, 'low temperature': 60, 'high temperature': 70, 'ideal weather condition': 'Partly Cloudy'}, {'number': 110, 'countries visited': 1, 'low temperature': 60, 'high temperature': 70, 'ideal weather condition': 'Partly Cloudy'}, {'number': 111, 'countries visited': 1, 'low temperature': 60, 'high temperature': 70, 'ideal weather condition': 'Sunny'}, {'number': 112, 'countries visited': 7, 'low temperature': 60, 'high temperature': 70, 'ideal weather condition': 'Partly Cloudy'}, {'number': 113, 'countries visited': 2, 'low temperature': 60, 'high temperature': 70, 'ideal weather condition': 'Rain'}, {'number': 114, 'countries visited': 3, 'low temperature': 70, 'high temperature': 80, 'ideal weather condition': 'Sunny'}, {'number': 115, 'countries visited': 4, 'low temperature': 40, 'high temperature': 50, 'ideal weather condition': 'Rain'}, {'number': 116, 'countries visited': 9, 'low temperature': 50, 'high temperature': 60, 'ideal weather condition': 'Rain'}, {'number': 117, 'countries visited': 14, 'low temperature': 70, 'high temperature': 80, 'ideal weather condition': 'Sunny'}, {'number': 118, 'countries visited': 1, 'low temperature': 60, 'high temperature': 70, 'ideal weather condition': 'Partly Cloudy'}, {'number': 119, 'countries visited': 3, 'low temperature': 60, 'high temperature': 70, 'ideal weather condition': 'Thunder Storm'}, {'number': 120, 'countries visited': 6, 'low temperature': 70, 'high temperature': 80, 'ideal weather condition': 'Partly Cloudy'}, {'number': 121, 'countries visited': 5, 'low temperature': 70, 'high temperature': 80, 'ideal weather condition': 'Sunny'}, {'number': 122, 'countries visited': 7, 'low temperature': 70, 'high temperature': 80, 'ideal weather condition': 'Partly Cloudy'}, {'number': 123, 'countries visited': 3, 'low temperature': 60, 'high temperature': 70, 'ideal weather condition': 'Partly Cloudy'}, {'number': 124, 'countries visited': 2, 'low temperature': 60, 'high temperature': 70, 'ideal weather condition': 'Partly Cloudy'}, {'number': 125, 'countries visited': 7, 'low temperature': 70, 'high temperature': 80, 'ideal weather condition': 'Partly Cloudy'}, {'number': 126, 'countries visited': 4, 'low temperature': 50, 'high temperature': 60, 'ideal weather condition': 'Rain'}, {'number': 127, 'countries visited': 4, 'low temperature': 70, 'high temperature': 80, 'ideal weather condition': 'Partly Cloudy'}, {'number': 128, 'countries visited': 8, 'low temperature': 70, 'high temperature': 80, 'ideal weather condition': 'Sunny'}, {'number': 129, 'countries visited': 9, 'low temperature': 70, 'high temperature': 80, 'ideal weather condition': 'Partly Cloudy'}, {'number': 130, 'countries visited': 6, 'low temperature': 70, 'high temperature': 80, 'ideal weather condition': 'Sunny'}, {'number': 131, 'countries visited': 3, 'low temperature': 60, 'high temperature': 70, 'ideal weather condition': 'Sunny'}, {'number': 132, 'countries visited': 6, 'low temperature': 60, 'high temperature': 70, 'ideal weather condition': 'Sunny'}, {'number': 133, 'countries visited': 2, 'low temperature': 70, 'high temperature': 80, 'ideal weather condition': 'Partly Cloudy'}, {'number': 134, 'countries visited': 1, 'low temperature': 60, 'high temperature': 70, 'ideal weather condition': 'Sunny'}, {'number': 135, 'countries visited': 8, 'low temperature': 50, 'high temperature': 60, 'ideal weather condition': 'Sunny'}, {'number': 136, 'countries visited': 20, 'low temperature': 70, 'high temperature': 80, 'ideal weather condition': 'Sunny'}, {'number': 137, 'countries visited': 5, 'low temperature': 70, 'high temperature': 80, 'ideal weather condition': 'Sunny'}, {'number': 138, 'countries visited': 5, 'low temperature': 60, 'high temperature': 70, 'ideal weather condition': 'Partly Cloudy'}, {'number': 139, 'countries visited': 8, 'low temperature': 60, 'high temperature': 70, 'ideal weather condition': 'Partly Cloudy'}, {'number': 140, 'countries visited': 12, 'low temperature': 60, 'high temperature': 70, 'ideal weather condition': 'Sunny'}, {'number': 141, 'countries visited': 5, 'low temperature': 60, 'high temperature': 70, 'ideal weather condition': 'Sunny'}, {'number': 142, 'countries visited': 10, 'low temperature': 80, 'high temperature': 90, 'ideal weather condition': 'Sunny'}, {'number': 143, 'countries visited': 8, 'low temperature': 50, 'high temperature': 60, 'ideal weather condition': 'Mostly Cloudy'}, {'number': 144, 'countries visited': 3, 'low temperature': 60, 'high temperature': 70, 'ideal weather condition': 'Sunny'}, {'number': 145, 'countries visited': 1, 'low temperature': 60, 'high temperature': 70, 'ideal weather condition': 'Partly Cloudy'}, {'number': 146, 'countries visited': 8, 'low temperature': 70, 'high temperature': 80, 'ideal weather condition': 'Partly Cloudy'}, {'number': 147, 'countries visited': 4, 'low temperature': 60, 'high temperature': 70, 'ideal weather condition': 'Mostly Cloudy'}, {'number': 148, 'countries visited': 3, 'low temperature': 70, 'high temperature': 80, 'ideal weather condition': 'Sunny'}, {'number': 149, 'countries visited': 2, 'low temperature': 60, 'high temperature': 70, 'ideal weather condition': 'Partly Cloudy'}, {'number': 150, 'countries visited': 2, 'low temperature': 50, 'high temperature': 60, 'ideal weather condition': 'Sunny'}, {'number': 151, 'countries visited': 4, 'low temperature': 30, 'high temperature': 40, 'ideal weather condition': 'Sunny'}, {'number': 152, 'countries visited': 7, 'low temperature': 80, 'high temperature': 90, 'ideal weather condition': 'Sunny'}, {'number': 153, 'countries visited': 2, 'low temperature': 70, 'high temperature': 80, 'ideal weather condition': 'Partly Cloudy'}, {'number': 154, 'countries visited': 21, 'low temperature': 60, 'high temperature': 70, 'ideal weather condition': 'Thunder Storm'}, {'number': 155, 'countries visited': 5, 'low temperature': 0, 'high temperature': 30, 'ideal weather condition': 'Sunny'}, {'number': 156, 'countries visited': 4, 'low temperature': 60, 'high temperature': 70, 'ideal weather condition': 'Sunny'}, {'number': 157, 'countries visited': 2, 'low temperature': 60, 'high temperature': 70, 'ideal weather condition': 'Partly Cloudy'}, {'number': 158, 'countries visited': 28, 'low temperature': 70, 'high temperature': 80, 'ideal weather condition': 'Partly Cloudy'}, {'number': 159, 'countries visited': 3, 'low temperature': 50, 'high temperature': 60, 'ideal weather condition': 'Cloudy'}, {'number': 160, 'countries visited': 7, 'low temperature': 80, 'high temperature': 90, 'ideal weather condition': 'Partly Cloudy'}, {'number': 161, 'countries visited': 3, 'low temperature': 60, 'high temperature': 70, 'ideal weather condition': 'Partly Cloudy'}, {'number': 162, 'countries visited': 8, 'low temperature': 40, 'high temperature': 50, 'ideal weather condition': 'Partly Cloudy'}, {'number': 163, 'countries visited': 8, 'low temperature': 80, 'high temperature': 90, 'ideal weather condition': 'Partly Cloudy'}, {'number': 164, 'countries visited': 4, 'low temperature': 70, 'high temperature': 80, 'ideal weather condition': 'Partly Cloudy'}, {'number': 165, 'countries visited': 6, 'low temperature': 50, 'high temperature': 60, 'ideal weather condition': 'Sunny'}, {'number': 166, 'countries visited': 4, 'low temperature': 30, 'high temperature': 40, 'ideal weather condition': 'Partly Cloudy'}, {'number': 167, 'countries visited': 2, 'low temperature': 70, 'high temperature': 80, 'ideal weather condition': 'Sunny'}]\n"
          ],
          "name": "stdout"
        }
      ]
    },
    {
      "cell_type": "markdown",
      "metadata": {
        "id": "bg42I55n2Us4",
        "colab_type": "text"
      },
      "source": [
        "# Manual Processing Problems\n",
        "\n",
        "For each of these problems, use the data from the file you parsed using the provided parse function and create solutions manually (as in do not use libraries like pandas)."
      ]
    },
    {
      "cell_type": "markdown",
      "metadata": {
        "id": "a02fx8-Sy27w",
        "colab_type": "text"
      },
      "source": [
        "# Problem 1) `weather_count`\n",
        "\n",
        "Write a function called `weather_count` that takes in an ideal weather condition and the parsed weather data and returns the number of people who prefer this weather condition. "
      ]
    },
    {
      "cell_type": "code",
      "metadata": {
        "id": "rsRO4aZLy61g",
        "colab_type": "code",
        "colab": {}
      },
      "source": [
        "# Type your solution here\n",
        "def weather_count(file, wea):\n",
        "  total = 0\n",
        "  for line in file:\n",
        "    if line['ideal weather condition'] == wea:\n",
        "      total += 1\n",
        "  return total"
      ],
      "execution_count": 0,
      "outputs": []
    },
    {
      "cell_type": "code",
      "metadata": {
        "id": "WSsiNWLozMv4",
        "colab_type": "code",
        "colab": {}
      },
      "source": [
        "assert_equals(2, weather_count(parsed_truncated_file, 'Rain'))\n",
        "assert_equals(1, weather_count(parsed_truncated_file,'Cloudy'))"
      ],
      "execution_count": 0,
      "outputs": []
    },
    {
      "cell_type": "markdown",
      "metadata": {
        "id": "WEvlI816zOMk",
        "colab_type": "text"
      },
      "source": [
        "# Problem 2) `temperature_range`\n",
        "\n",
        "Write a function called `temperature_range` that takes in the parsed student data, a `low` temperature (inclusive) and a `high` temperature (exclusive) and returns the number of students that prefer temperatures within that range. These temperatures are in Farenheit. \n",
        "\n",
        "For the dataset [{'number': 1,'countries visited': 3, 'low temperature': 50, 'high temperature': 60, 'ideal weather condition': 'Sunny'}, {'number': 2, 'countries visited': 5, 'low temperature': 30, 'high temperature': 40, 'ideal weather condition': 'Partly Cloudy'}, {'number': 3, 'countries visited':10, 'low temperature': 0, 'high temperature': 30, 'ideal weather condition': 'Rainy'}] if you called `temperature_range`(parsed_truncated_file, 0, 31) we would return 1 because only the third piece of data has both a low and high temperature value that are in between the high and low input into the function. \n",
        "\n"
      ]
    },
    {
      "cell_type": "code",
      "metadata": {
        "id": "b3pjQPmdzcrq",
        "colab_type": "code",
        "colab": {}
      },
      "source": [
        "# Type your solution here\n",
        "def temperature_range(data, low, high):\n",
        "  student = 0\n",
        "  for line in data:\n",
        "    if line['low temperature'] >= low and line['high temperature'] < high:\n",
        "      student += 1\n",
        "  return student"
      ],
      "execution_count": 0,
      "outputs": []
    },
    {
      "cell_type": "code",
      "metadata": {
        "id": "nXf-Gl_EzcU3",
        "colab_type": "code",
        "colab": {}
      },
      "source": [
        "assert_equals(2, temperature_range(parsed_truncated_file, 50, 70))"
      ],
      "execution_count": 0,
      "outputs": []
    },
    {
      "cell_type": "markdown",
      "metadata": {
        "id": "QENDh5pjZ7Jp",
        "colab_type": "text"
      },
      "source": [
        "# Problem 3) `max_countries_visited`\n",
        "\n",
        "Write a function called `max_countries_visited` that takes in the `data` that finds the max number of countries visited by someone in the class and returns a tuple containing that person's number in the dataset and the number of countries they have visited.\n",
        "\n",
        "If there is a tie between multiple students on the maximum number of countries visited, this function will return the student that appeared first in the dataset. "
      ]
    },
    {
      "cell_type": "code",
      "metadata": {
        "id": "oxsGZ2VxaRcY",
        "colab_type": "code",
        "colab": {}
      },
      "source": [
        "# Type your solution here\n",
        "def max_countries_visited(data):\n",
        "  max_countries = 0\n",
        "  max_line = 0\n",
        "  for line in data:\n",
        "    if line['countries visited'] > max_countries:\n",
        "      max_countries = line['countries visited']\n",
        "      max_line = line['number']\n",
        "  return (max_line, max_countries)\n",
        "                           "
      ],
      "execution_count": 0,
      "outputs": []
    },
    {
      "cell_type": "code",
      "metadata": {
        "id": "QtFJj0HnaUfq",
        "colab_type": "code",
        "colab": {}
      },
      "source": [
        "assert_equals((2, 13), max_countries_visited(parsed_truncated_file))"
      ],
      "execution_count": 0,
      "outputs": []
    },
    {
      "cell_type": "markdown",
      "metadata": {
        "id": "EFemPAgLvBNA",
        "colab_type": "text"
      },
      "source": [
        "# Problem 4) `unique_weather_combinations`\n",
        "\n",
        "Write a function called `unique_weather_combinations` that takes in the parsed weather `data` returns the number of unique combinations of ideal weather type and low temperature that individuals in our class listed. \n",
        "\n"
      ]
    },
    {
      "cell_type": "code",
      "metadata": {
        "id": "TqcB6PqpvKEt",
        "colab_type": "code",
        "colab": {}
      },
      "source": [
        "# Type your solution here\n",
        "def unique_weather_combinations(data):\n",
        "  result = set()\n",
        "  for line in data:\n",
        "    weather_cond = line['ideal weather condition'] + \\\n",
        "                   str(line['low temperature'])\n",
        "    result.add(weather_cond)\n",
        "  return len(result)"
      ],
      "execution_count": 0,
      "outputs": []
    },
    {
      "cell_type": "code",
      "metadata": {
        "id": "mAnJ3BdsvNX4",
        "colab_type": "code",
        "colab": {}
      },
      "source": [
        "assert_equals(9, unique_weather_combinations(parsed_truncated_file));"
      ],
      "execution_count": 0,
      "outputs": []
    },
    {
      "cell_type": "markdown",
      "metadata": {
        "id": "2INo4F6TwDy4",
        "colab_type": "text"
      },
      "source": [
        "# Problem 5) `average_countries_visited`\n",
        "\n",
        "Write a function called `average_countries_visited` that takes in the parsed `data` and returns the average number of countries visited in the dataset. "
      ]
    },
    {
      "cell_type": "code",
      "metadata": {
        "id": "PhiRm84a9DcM",
        "colab_type": "code",
        "colab": {}
      },
      "source": [
        "# Type your code here\n",
        "def average_countries_visited(data):\n",
        "  sum_countries = 0\n",
        "  count = 0\n",
        "  for line in data:\n",
        "    sum_countries += line['countries visited']\n",
        "    count += 1\n",
        "  return sum_countries / count"
      ],
      "execution_count": 0,
      "outputs": []
    },
    {
      "cell_type": "code",
      "metadata": {
        "id": "RoBm0GFa9gUd",
        "colab_type": "code",
        "colab": {}
      },
      "source": [
        "assert_equals(5.55, average_countries_visited(parsed_truncated_file))"
      ],
      "execution_count": 0,
      "outputs": []
    },
    {
      "cell_type": "markdown",
      "metadata": {
        "id": "ZfbgR73vU4bM",
        "colab_type": "text"
      },
      "source": [
        "# Problem 6) `average_countries_visited_per_weather_type`\n",
        "\n",
        "Write a function called `average_countries_visited_per_weather_type` that takes in the parsed `data` and  returns a dictionary that has the average number of countries visited for each preferred weather type (ie Sunny, Cloudy, etc)\n",
        "\n",
        "**Note**: We are not being thorough with this problem. In actual testing we would encourage you to make a small dataset that you know the expected result from and test the function on that file. "
      ]
    },
    {
      "cell_type": "code",
      "metadata": {
        "id": "egz8K5EsVRbw",
        "colab_type": "code",
        "colab": {}
      },
      "source": [
        "# Type your code here\n",
        "def average_countries_visited_per_weather_type(data):\n",
        "  mapping = dict()\n",
        "  result = dict()\n",
        "  for line in data:\n",
        "    weather_cond = line['ideal weather condition']\n",
        "    if weather_cond in result:\n",
        "      mapping[weather_cond] = mapping[weather_cond].add(line['countries visited'])\n",
        "    else:\n",
        "      mapping[weather_cond] = list()\n",
        "      mapping[weather_cond].add(line['countries visited'])\n",
        "  for country in mapping:\n",
        "    sum = 0\n",
        "    for "
      ],
      "execution_count": 0,
      "outputs": []
    },
    {
      "cell_type": "code",
      "metadata": {
        "id": "yeq6qxguVUpo",
        "colab_type": "code",
        "colab": {}
      },
      "source": [
        "#testing statements \n",
        "print(average_countries_visited_per_weather_type(parsed_truncated_file))"
      ],
      "execution_count": 0,
      "outputs": []
    },
    {
      "cell_type": "markdown",
      "metadata": {
        "id": "1KzNKCHt22vb",
        "colab_type": "text"
      },
      "source": [
        "# Pandas Problems\n",
        "\n",
        "For each of these problems, use the data from the file you parsed and create solutions using the pandas library. For a reference to the library click [here](https://colab.research.google.com/drive/18IJoQVk-X1ZwfspNFgZT_2_e1eQGvugS#scrollTo=mGsLTMELerWY&forceEdit=true&sandboxMode=true)"
      ]
    },
    {
      "cell_type": "markdown",
      "metadata": {
        "id": "yd0tSpGBPbQy",
        "colab_type": "text"
      },
      "source": [
        "Word bank: \n",
        "\n",
        "*   Get a column of a `DataFrame`: `data[<column name>]`\n",
        "*   More general way to get data from a `DataFrame`: `data.loc[<row indexer>, <column indexer>]`\n",
        "*    Filtering: `data[<boolean series mask>]`, can combine multiple boolean series masks using `&`(and), `|`(or), and `~`(not)\n",
        "*     Loop over Series\n",
        "*     `min`: calculates the minimum value of the `Series`\n",
        "*     `max`: calculates the maximum value of the `Series`\n",
        "*     `idxmin`: calculates the index of the minimum value of the `Series`\n",
        "*     `idxmax`: calculates the index of the maximum value of the `Series`\n",
        "*      `count`: calculates the numer values in the `Series`\n",
        "*      `mean`: calculates the average value of the `Series`\n",
        "*      `unique`: returns a new `Series` with all the unique values from the `Series`\n",
        "*     `groupby`\n",
        "\n",
        "\n"
      ]
    },
    {
      "cell_type": "markdown",
      "metadata": {
        "id": "x2a_SRSoe_ni",
        "colab_type": "text"
      },
      "source": [
        "Note: in pandas we parse our data differently and the object we will be processing is a pandas `Dataframe` instead of a list of dictionaries. Run the cell below to get the data in a form compatible with pandas"
      ]
    },
    {
      "cell_type": "code",
      "metadata": {
        "id": "SbMTBTkNp-Dg",
        "colab_type": "code",
        "colab": {}
      },
      "source": [
        "pandas_truncated_data = pd.read_csv('section2data-truncated.csv')\n",
        "pandas_data = pd.read_csv('section2data.csv')"
      ],
      "execution_count": 0,
      "outputs": []
    },
    {
      "cell_type": "markdown",
      "metadata": {
        "id": "sQaQMNMMwLHq",
        "colab_type": "text"
      },
      "source": [
        "# Problem 1) `weather_count_pandas`\n",
        "\n",
        "Write a function called `weather_count_pandas` that takes in an ideal weather condition and a pandas `Dataframe` of the weather `data` and returns the number of people who prefer this weather condition. "
      ]
    },
    {
      "cell_type": "code",
      "metadata": {
        "id": "3tursQO1wiRv",
        "colab_type": "code",
        "colab": {}
      },
      "source": [
        "# Type your solution here\n",
        "def weather_count_pandas(data, weather):\n",
        "  return len(data[(data['ideal weather condition'] == weather)])"
      ],
      "execution_count": 0,
      "outputs": []
    },
    {
      "cell_type": "code",
      "metadata": {
        "id": "06NtvIxbwv2n",
        "colab_type": "code",
        "colab": {}
      },
      "source": [
        "assert_equals(2, weather_count_pandas(pandas_truncated_data, 'Rain'))\n",
        "assert_equals(1, weather_count_pandas(pandas_truncated_data,'Cloudy'))"
      ],
      "execution_count": 0,
      "outputs": []
    },
    {
      "cell_type": "markdown",
      "metadata": {
        "id": "oy8--VR9wqhZ",
        "colab_type": "text"
      },
      "source": [
        "# Problem 2) `temperature_range_pandas`\n",
        "\n",
        "Write a function called `temperature_range_pandas` that takes in a pandas `Dataframe` of the weather `data`,  a `low` temperature (inclusive), and a `high` temperature (exclusive) and returns the number of students that prefer temperatures within that range. These temperatures are in Farenheit. \n",
        "\n",
        "For the dataset [{'number': 1,'countries visited': 3, 'low temperature': 50, 'high temperature': 60, 'ideal weather condition': 'Sunny'}, {'number': 2, 'countries visited': 5, 'low temperature': 30, 'high temperature': 40, 'ideal weather condition': 'Partly Cloudy'}, {'number': 3, 'countries visited':10, 'low temperature': 0, 'high temperature': 30, 'ideal weather condition': 'Rainy'}] if you called `temperature_range_pandas`(parsed_truncated_file, 0, 31) we would return 1 because only the third piece of data has both a low and high temperature value that are in between the high and low input into the function. \n",
        "\n"
      ]
    },
    {
      "cell_type": "code",
      "metadata": {
        "id": "BrRe1ZUIWIJ6",
        "colab_type": "code",
        "colab": {}
      },
      "source": [
        "# Type your solution here\n",
        "def temperature_range_pandas(data, low, high):\n",
        "  return len(data[((data['low temperature'] >= low) & (data['high temperature'] < high))])"
      ],
      "execution_count": 0,
      "outputs": []
    },
    {
      "cell_type": "code",
      "metadata": {
        "id": "XhCsvIxFWUOW",
        "colab_type": "code",
        "colab": {}
      },
      "source": [
        "assert_equals(2, temperature_range_pandas(pandas_truncated_data, 50, 70))"
      ],
      "execution_count": 0,
      "outputs": []
    },
    {
      "cell_type": "markdown",
      "metadata": {
        "id": "Pm8NTV_uxUB2",
        "colab_type": "text"
      },
      "source": [
        "# Problem 3) `max_countries_visited_pandas`\n",
        "\n",
        "Write a function called `max_countries_visited_pandas` that takes in the pandas `Dataframe` of the weather `data` that finds the max number of countries visited by someone in the class and returns a tuple containing that person's number in the dataset and the number of countries they have visited."
      ]
    },
    {
      "cell_type": "code",
      "metadata": {
        "id": "CVL7VklJxap7",
        "colab_type": "code",
        "colab": {}
      },
      "source": [
        "# Type your solution here\n",
        "def max_countries_visited_pandas(data):\n",
        "  # remember how to use idxmax and data.loc\n",
        "  val = data.loc[data['countries visited'].idxmax()]\n",
        "  return val['number'], val['countries visited']"
      ],
      "execution_count": 0,
      "outputs": []
    },
    {
      "cell_type": "code",
      "metadata": {
        "id": "Kkp7m-Sqy040",
        "colab_type": "code",
        "colab": {}
      },
      "source": [
        "assert_equals((2, 13), max_countries_visited_pandas(pandas_truncated_data))"
      ],
      "execution_count": 0,
      "outputs": []
    },
    {
      "cell_type": "markdown",
      "metadata": {
        "id": "S0zj8okZ25m5",
        "colab_type": "text"
      },
      "source": [
        "# Problem 4) `unique_weather_combinations_pandas`\n",
        "\n",
        "Write a function called `unique_weather_conditions_pandas` that takes in a pandas `Dataframe` of the weather `data` returns the number of unique combinations of ideal weather type and low temperature in the dataset. \n",
        "\n",
        "You can use the `astype` function on a `Series` to convert the values to a different type. For example, to turn high temperature into a `float`:\n",
        "\n",
        "```python\n",
        "data['high temperature'].astype(float)\n",
        "```"
      ]
    },
    {
      "cell_type": "code",
      "metadata": {
        "id": "GUyrtoJ_3Ag7",
        "colab_type": "code",
        "colab": {}
      },
      "source": [
        "# Type your solution here\n",
        "def unique_weather_combinations_pandas(data):\n",
        "  # combinations 是什么 type??\n",
        "  combinations = data['low temperature'].astype(str) + ' ' \\\n",
        "    + data['ideal weather condition']\n",
        "  return len(combinations.unique())"
      ],
      "execution_count": 0,
      "outputs": []
    },
    {
      "cell_type": "code",
      "metadata": {
        "id": "7XfalDrp3toG",
        "colab_type": "code",
        "colab": {}
      },
      "source": [
        "assert_equals(9, unique_weather_combinations_pandas(pandas_truncated_data));"
      ],
      "execution_count": 0,
      "outputs": []
    },
    {
      "cell_type": "markdown",
      "metadata": {
        "id": "fH4iHZCi-SvP",
        "colab_type": "text"
      },
      "source": [
        "# Problem 5) `average_countries_visited_pandas`\n",
        "\n",
        "Write a function called `average_countries_visited_pandas` that takes in a pandas `Dataframe` of the `data` and returns the average number of countries visited in the dataset. "
      ]
    },
    {
      "cell_type": "code",
      "metadata": {
        "id": "IqXgSqJ7_A1K",
        "colab_type": "code",
        "colab": {}
      },
      "source": [
        "# Type your solution here\n",
        "def average_countries_visited_pandas(data):\n",
        "  return data['countries visited'].mean()"
      ],
      "execution_count": 0,
      "outputs": []
    },
    {
      "cell_type": "code",
      "metadata": {
        "id": "m3Tce2pGA2fY",
        "colab_type": "code",
        "colab": {}
      },
      "source": [
        "#testing here \n",
        "assert_equals(5.55, average_countries_visited_pandas(pandas_truncated_data))"
      ],
      "execution_count": 0,
      "outputs": []
    },
    {
      "cell_type": "markdown",
      "metadata": {
        "id": "sYU4NnbXXPY7",
        "colab_type": "text"
      },
      "source": [
        "# Problem 6) `average_countries_visited_per_weather_type_pandas`\n",
        "*Note: This problem is here for extra practice, but you won't be able to solve it until after Friday's lecture.*\n",
        "\n",
        "Write a function called `average_countries_visited_per_weather_type_pandas` that takes in a pandas `Dataframe` of the weather`data` and  returns a dictionary that has the average number of countries visited for each preferred weather type (ie Sunny, Cloudy, etc)\n",
        "\n",
        "**Note**: We are not being thorough with this problem. In actual testing we would encourage you to make a small dataset that you know the expected result from and test the function on that file. "
      ]
    },
    {
      "cell_type": "code",
      "metadata": {
        "id": "8xbJBOB4XWwK",
        "colab_type": "code",
        "colab": {}
      },
      "source": [
        "# Type your solution here\n",
        "def average_countries_visited_per_weather_type_pandas(data):\n",
        "  # 记住这个，怎么变成dict\n",
        "  return dict(data.groupby('ideal weather condition')['countries visited'].mean())"
      ],
      "execution_count": 0,
      "outputs": []
    },
    {
      "cell_type": "code",
      "metadata": {
        "id": "nVdWLHjqXWeB",
        "colab_type": "code",
        "colab": {
          "base_uri": "https://localhost:8080/",
          "height": 34
        },
        "outputId": "4fdfa040-867e-4c04-d230-37abeb427fce"
      },
      "source": [
        "#testing here \n",
        "print(average_countries_visited_per_weather_type_pandas(pandas_truncated_data))"
      ],
      "execution_count": 42,
      "outputs": [
        {
          "output_type": "stream",
          "text": [
            "{'Cloudy': 2.0, 'Partly Cloudy': 6.222222222222222, 'Rain': 1.5, 'Sunny': 6.25}\n"
          ],
          "name": "stdout"
        }
      ]
    }
  ]
}