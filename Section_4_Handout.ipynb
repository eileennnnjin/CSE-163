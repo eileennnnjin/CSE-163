{
  "nbformat": 4,
  "nbformat_minor": 0,
  "metadata": {
    "colab": {
      "name": "Section-4-Handout.ipynb",
      "provenance": [],
      "collapsed_sections": [],
      "include_colab_link": true
    },
    "language_info": {
      "codemirror_mode": {
        "name": "ipython",
        "version": 3
      },
      "file_extension": ".py",
      "mimetype": "text/x-python",
      "name": "python",
      "nbconvert_exporter": "python",
      "pygments_lexer": "ipython3",
      "version": "3.7.1"
    },
    "kernelspec": {
      "display_name": "Python 3",
      "language": "python",
      "name": "python3"
    }
  },
  "cells": [
    {
      "cell_type": "markdown",
      "metadata": {
        "id": "view-in-github",
        "colab_type": "text"
      },
      "source": [
        "<a href=\"https://colab.research.google.com/github/eileennnnjin/CSE-163/blob/master/Section_4_Handout.ipynb\" target=\"_parent\"><img src=\"https://colab.research.google.com/assets/colab-badge.svg\" alt=\"Open In Colab\"/></a>"
      ]
    },
    {
      "cell_type": "markdown",
      "metadata": {
        "colab_type": "text",
        "id": "n02-hbmjKVTP"
      },
      "source": [
        "# Setup\n",
        "\n",
        "Run the following code before working on any problem to import util functions used to test your code"
      ]
    },
    {
      "cell_type": "code",
      "metadata": {
        "colab_type": "code",
        "id": "0xWzhdFOKVTf",
        "colab": {}
      },
      "source": [
        "import requests\n",
        "\n",
        "def save_file(url, file_name):\n",
        "  r = requests.get(url)\n",
        "  with open(file_name, 'wb') as f:\n",
        "    f.write(r.content)\n",
        "\n",
        "save_file('https://courses.cs.washington.edu/courses/cse163/20wi/files/section/'\n",
        "          + 'section02/cse163_utils.py', 'cse163_utils.py')\n",
        "\n",
        "from cse163_utils import assert_equals"
      ],
      "execution_count": 0,
      "outputs": []
    },
    {
      "cell_type": "markdown",
      "metadata": {
        "colab_type": "text",
        "id": "TIKy6UWSKVTw"
      },
      "source": [
        "# Problem 1: `Student` Class\n",
        "For this problem you will be working on problems related to a class called `Student` in the cell below. We have provided some headers, but otherwise you will build this from scratch. \n",
        "\n",
        "The class `Student` represents an individual student and stores their name, student number, and the classes they have taken.\n",
        "\n",
        "The problem descriptions and tests lower on the document, but you should only write code in the block below.\n"
      ]
    },
    {
      "cell_type": "code",
      "metadata": {
        "colab_type": "code",
        "id": "lw2QkrYcKVTy",
        "colab": {}
      },
      "source": [
        "# The problem descriptions and tests are below, but the methods are to be \n",
        "# implemented in this block.\n",
        "\n",
        "class Student:\n",
        "    \"\"\"The class Student represents an individual student and stores their\n",
        "    name, student number, and the classes they have taken.\n",
        "    \"\"\"\n",
        "    \n",
        "    # Problem 1.1:\n",
        "    def __init__(self, name, student_number, classes = None):\n",
        "        \"\"\"Implement an initializer for the class Student. It should take in a \n",
        "        string name, an integer student_number, and a dictionary called classes \n",
        "        as arguments. If no value for classes is specified, it should default to \n",
        "        the empty dictionary.\n",
        "\n",
        "        The class should have the fields _name (a string), _student_number\n",
        "        (an integer), _classes (a dictionary) and should be initialized as the\n",
        "        passed values.\n",
        "        \"\"\"\n",
        "        # TODO: Delete this comment and implement this function\n",
        "        self._name = name\n",
        "        self._student_number = student_number\n",
        "        if classes is None:\n",
        "          self._classes = {}\n",
        "        else:\n",
        "          self._classes = classes\n",
        "        \n",
        "      \n",
        "    def get_name(self):\n",
        "        \"\"\"Returns the name of this student.\"\"\"\n",
        "        # TODO: Delete this comment and implement this function\n",
        "        return self._name\n",
        "\n",
        "    def get_student_number(self):\n",
        "        \"\"\"Returns the student number of this student.\"\"\"\n",
        "        # TODO: Delete this comment and implement this function\n",
        "        return self._student_number\n",
        "\n",
        "    def get_classes(self):\n",
        "        \"\"\"Returns the classes that this student is taking, represented as\n",
        "        a dictionary where keys are class names and values are the number of\n",
        "        credits of the respective class.\n",
        "        \"\"\"\n",
        "        # TODO: Delete this comment and implement this function\n",
        "        return self._classes\n",
        "        \n",
        "    # Problem 1.2\n",
        "    def add_class(self, class_name, credits):\n",
        "        \"\"\"Takes in a string class_name and a integer credits, and \n",
        "        adds an entry to the classes dictionary with the key class_name \n",
        "        and the value credits. If the class_name already exists, the \n",
        "        credit number should be updated to the new one.\n",
        "        \"\"\"\n",
        "        # TODO: Delete this comment and implement this function\n",
        "        self._classes[class_name] = credits\n",
        "        \n",
        "        \n",
        "    # Problem 1.3\n",
        "    def _num_credits(self):\n",
        "        \"\"\"Returns how many credits this Student is enrolled in.\"\"\"\n",
        "        # TODO: Delete this comment and implement this function\n",
        "        total = 0\n",
        "        for credit in self._classes.values():\n",
        "          total += credit\n",
        "        return total\n",
        "      \n",
        "    \n",
        "    # Problem 1.4\n",
        "    def calc_standing(self):\n",
        "        \"\"\"Returns a string representing which year a student is in \n",
        "        (freshman, sophomore, junior, freshman).\n",
        "        \"\"\"\n",
        "        # TODO: Delete this comment and implement this function\n",
        "        n = self._num_credits()\n",
        "        if n < 45:\n",
        "          return 'freshman'\n",
        "        elif n < 90:\n",
        "          return 'sophomore'\n",
        "        elif n < 135:\n",
        "          return 'junior'\n",
        "        else:\n",
        "          return 'senior'\n",
        "        \n",
        "    \n",
        "    def __repr__(self):\n",
        "        \"\"\"Returns the \"official\" string representation of a string\n",
        "        object so we can print out students.\n",
        "        \"\"\"\n",
        "        return self._name + \": \" + str(self._student_number)\n",
        "    "
      ],
      "execution_count": 0,
      "outputs": []
    },
    {
      "cell_type": "markdown",
      "metadata": {
        "colab_type": "text",
        "id": "6xGbdJeSKVT_"
      },
      "source": [
        "## Problem 1.1: `initializer` and getters\n",
        "\n",
        "Implement an initializer for the class `Student`. It should take in a string `name`, an integer `student_number`, and a dictionary called `classes` as arguments. If no value for `classes` is specified, it should default to an empty dictionary.\n",
        "\n",
        "The class should have the private fields `_name`, (a string) `_student_number` (an integer), `_classes` (a dictionary) and should be initialized as the passed values.\n",
        "\n",
        "Once you have implemented your initializer, implement the functions `get_name`, `get_student_number`, and `get_classes`, which should return the respective fields."
      ]
    },
    {
      "cell_type": "code",
      "metadata": {
        "colab_type": "code",
        "id": "Czp9nNg3KVUC",
        "colab": {}
      },
      "source": [
        "# Test \n",
        "k = Student(\"Kira Johnson\", 1345)\n",
        "assert_equals(\"Kira Johnson\", k.get_name())\n",
        "assert_equals(1345, k.get_student_number())\n",
        "assert_equals({}, k.get_classes())\n",
        "\n",
        "d = Student(\"Danny Smith\", 4564, {'CSE 142' : 4, 'Math 124' : 5, 'Chem 142' : 5})\n",
        "assert_equals(\"Danny Smith\", d.get_name())\n",
        "assert_equals(4564, d.get_student_number())\n",
        "assert_equals({'CSE 142' : 4, 'Math 124' : 5, 'Chem 142' : 5}, d.get_classes())"
      ],
      "execution_count": 0,
      "outputs": []
    },
    {
      "cell_type": "markdown",
      "metadata": {
        "colab_type": "text",
        "id": "yFOy3wn7KVUQ"
      },
      "source": [
        "## Problem 1.2: `add_class`\n",
        "Write a public method called `add_class` which will takes in a string `class_name` and a integer `credits`, and adds an entry to the `classes` dictionary with the key `class_name` and the value `credits`. If the `class_name` already exists, the credit number should be updated to the new one."
      ]
    },
    {
      "cell_type": "code",
      "metadata": {
        "colab_type": "code",
        "id": "QAaZ0HO2KVUR",
        "colab": {}
      },
      "source": [
        "# Test\n",
        "k = Student(\"Kira Johnson\", 1345)\n",
        "k.add_class(\"CSE 163\", 4)\n",
        "assert_equals({\"CSE 163\" : 4}, k.get_classes())\n",
        "\n",
        "c = Student(\"Carlos Lopez\", 1774, {'Engl 111' : 5, 'ESRM 101' : 5, 'Math 125' : 5, \"CSE 163\" : 2})\n",
        "c.add_class(\"CSE 163\", 4)\n",
        "assert_equals({'Engl 111' : 5, 'ESRM 101' : 5, 'Math 125' : 5, \"CSE 163\" : 4}, c.get_classes())"
      ],
      "execution_count": 0,
      "outputs": []
    },
    {
      "cell_type": "markdown",
      "metadata": {
        "colab_type": "text",
        "id": "Tp8kNRnrKVUc"
      },
      "source": [
        "## Problem 1.3: `_num_credits`\n",
        "Write a private method called `_num_credits` which returns how many credits that student has. Note that the field `_classes` is a dictionary where keys are the names of classes and the values are the number of credits that class is worth. "
      ]
    },
    {
      "cell_type": "code",
      "metadata": {
        "colab_type": "code",
        "id": "7EVxTnDBKVUf",
        "colab": {}
      },
      "source": [
        "# Test\n",
        "d = Student(\"Danny Smith\", 4564, {'CSE 142' : 4, 'Math 124' : 5, 'Chem 142' : 5})\n",
        "assert_equals(14, d._num_credits())\n",
        "\n",
        "c = Student(\"Carlos Lopez\", 1774, {'Engl 111' : 5, 'ESRM 101' : 5, 'Math 125' : 5})\n",
        "assert_equals(15, c._num_credits())\n",
        "\n",
        "n = Student(\"Noah Igawa\", 9999, {})\n",
        "assert_equals(0, n._num_credits())"
      ],
      "execution_count": 0,
      "outputs": []
    },
    {
      "cell_type": "markdown",
      "metadata": {
        "colab_type": "text",
        "id": "OuGt1__qKVUz"
      },
      "source": [
        "**Note:** In the tests we are calling `_num_credits` to ensure it works. However, outside of testing, this method should never be called"
      ]
    },
    {
      "cell_type": "markdown",
      "metadata": {
        "colab_type": "text",
        "id": "k-_gPzxqKVU2"
      },
      "source": [
        "## Problem 1.4: `calc_standing`\n",
        "Write a public method called `calc_standing` which will return a string representing which year a student is in (freshman, sophomore, junior, freshman). Use the private method `_num_credits` you wrote in problem 1.3.\n",
        "\n",
        "Use the following to determine class standing:\n",
        "\n",
        "| class standing | credits     |\n",
        "|----------------|-------------|\n",
        "| freshman       | 0-44        |\n",
        "| sophomore      | 45-89       |\n",
        "| junior         | 90-134      |\n",
        "| senior         | 135 or more |"
      ]
    },
    {
      "cell_type": "code",
      "metadata": {
        "colab_type": "code",
        "id": "u2flzbN8KVU-",
        "colab": {}
      },
      "source": [
        "# Test\n",
        "e = Student(\"Ellie Webber\", 1564)\n",
        "assert_equals(\"freshman\", e.calc_standing())\n",
        "\n",
        "kl = Student(\"Kaitlin Liau\", 7563, \n",
        "             {\"MATH 124\": 5, \"MATH 125\" : 5, \"MATH 126\" : 5, \"CHEM 142\" : 5, \n",
        "              \"CHEM 152\" : 5, \"CHEM 162\" : 5, \"BIOEN 215\" : 3,\"ENGL 182\" : 5, \n",
        "              \"MATH 097\" : 2, \"BIOL 180\" : 5}           \n",
        "            )\n",
        "assert_equals(\"sophomore\", kl.calc_standing())"
      ],
      "execution_count": 0,
      "outputs": []
    },
    {
      "cell_type": "markdown",
      "metadata": {
        "id": "n4-YLDqLUHIT",
        "colab_type": "text"
      },
      "source": [
        "## Problem 1.5: `sort_students_name`\n",
        "For this problem, this function will **not be in the `Student` class**.\n",
        "\n",
        "Write a function called `sort_students_name` which takes in a list of students and sorts them by their first name.\n",
        "\n",
        "This [page](https://docs.python.org/howto/sorting.html) may be helpful."
      ]
    },
    {
      "cell_type": "code",
      "metadata": {
        "id": "ndfYKcP7UHIZ",
        "colab_type": "code",
        "colab": {}
      },
      "source": [
        "# Your code here:\n",
        "def sort_students_name(s):\n",
        "  return sorted(s, key=lambda student: student.get_name())"
      ],
      "execution_count": 0,
      "outputs": []
    },
    {
      "cell_type": "code",
      "metadata": {
        "id": "6vXp2tDWUHIr",
        "colab_type": "code",
        "colab": {}
      },
      "source": [
        "# Test:\n",
        "d = Student(\"Danny Smith\", 4564, {'CSE 142' : 4, 'Math 124' : 5, 'Chem 142' : 5})\n",
        "k = Student(\"Kira Johnson\", 1345)\n",
        "c = Student(\"Carlos Lopez\", 1774, {'Engl 111' : 5, 'ESRM 101' : 5, 'Math 125' : 5})\n",
        "n = Student(\"Noah Igawa\", 9999, {})\n",
        "kl = Student(\"Kaitlin Liau\", 7563, \n",
        "             {\"MATH 124\": 5, \"MATH 125\" : 5, \"MATH 126\" : 5, \"CHEM 142\" : 5, \n",
        "              \"CHEM 152\" : 5, \"CHEM 162\" : 5, \"BIOEN 215\" : 3,\"ENGL 182\" : 5, \n",
        "              \"MATH 097\" : 2, \"BIOL 180\" : 5}           \n",
        "            )\n",
        "e = Student(\"Ellie Webber\", 1564)\n",
        "\n",
        "s_short= [e, d]\n",
        "assert_equals([d, e], sort_students_name(s_short))\n",
        "\n",
        "s = [d, k, c, n, kl, e]\n",
        "assert_equals([c, d, e, kl, k, n], sort_students_name(s))\n"
      ],
      "execution_count": 0,
      "outputs": []
    },
    {
      "cell_type": "markdown",
      "metadata": {
        "id": "rR1nkpw5UHJK",
        "colab_type": "text"
      },
      "source": [
        "**Additional Sorting Problems:** How would you sort:\n",
        "1. by student number?\n",
        "2. by name in *descending* order (we have been sorting by ascending order)?\n",
        "3. by last name?\n",
        "4. by number of credits?"
      ]
    },
    {
      "cell_type": "code",
      "metadata": {
        "id": "Do8ycYb0UHJN",
        "colab_type": "code",
        "colab": {}
      },
      "source": [
        "#1\n",
        "# TODO: Delete this comment and implement this function\n",
        "sorted(s, key=lambda student: student.get_student_number())\n",
        "#2\n",
        "# TODO: Delete this comment and implement this function\n",
        "sorted(s, key=lambda student: student.get_name(), reverse=True)\n",
        "#3\n",
        "# 记住这个\n",
        "sorted(s, key=lambda student: student.get_name().split()[1])\n",
        "#4\n",
        "# TODO: Delete this comment and implement this function\n",
        "#Note that this is bad style! But we wanted to show you that you can put a class function in here.\n",
        "sorted(s, key=lambda student: student._num_credits())"
      ],
      "execution_count": 0,
      "outputs": []
    },
    {
      "cell_type": "markdown",
      "metadata": {
        "id": "Bmhyb908CzSE",
        "colab_type": "text"
      },
      "source": [
        "# Problem 2: `University` Class\n",
        "For this problem you will be working on problems related to a class called `University` in the cell below. We have provided some headers, but otherwise you will build this from scratch. \n",
        "\n",
        "The class `University` represents a university. The `University` stores statistics about enrolled `Student`s. Make sure to implement the `Student` class before moving on to this problem!\n",
        "\n",
        "The problem descriptions and tests lower on the document, but you should only write code in the block below.\n"
      ]
    },
    {
      "cell_type": "code",
      "metadata": {
        "id": "tQsZm0zODXq5",
        "colab_type": "code",
        "colab": {}
      },
      "source": [
        "# The problem descriptions and tests are below, but the methods are to be \n",
        "# implemented in this block.\n",
        "\n",
        "class University:\n",
        "    '''A University represents a collection of Students. It has a name and \n",
        "    contains functionality to compute aggregate statistics about its enrolled\n",
        "    students.'''\n",
        "    \n",
        "    # Problem 1.1:\n",
        "    def __init__(self, name):\n",
        "        \"\"\"Implement an initializer for the class University. It should take in\n",
        "        a string name representing the name of this University.\n",
        "        \"\"\"\n",
        "        self._name = name\n",
        "        self._students = {}\n",
        "\n",
        "    def get_name(self):\n",
        "        \"\"\"Returns the name of this University.\"\"\"\n",
        "        return self._name\n",
        "\n",
        "    # Problem 1.2:   \n",
        "    def is_enrolled(self, student_number):\n",
        "        \"\"\"Returns True if a student with the given student number is enrolled\n",
        "        at this University, False otherwise.\n",
        "        \"\"\"\n",
        "        return student_number in self._students\n",
        "\n",
        "    def enroll_student(self, student):\n",
        "        \"\"\"Enrolls the given student to this university. If there is already a \n",
        "        student with a student number matching that of the given student enrolled\n",
        "        in this university, return False. Otherwise return True.\"\"\"\n",
        "        student_num = student.get_student_number()\n",
        "        if self.is_enrolled(student_num):\n",
        "          return False\n",
        "        self._students[student_num] = student\n",
        "        return True\n",
        "    \n",
        "    # Problem 1.4:\n",
        "    def num_class_standing(self, class_standing):\n",
        "        \"\"\"Returns the total number of students enrolled in this University with\n",
        "        the given class_standing (ie. freshman, sophomore, junior, etc.)\n",
        "        \"\"\"\n",
        "        total_students_standing = 0\n",
        "        for student_number in self._students:\n",
        "          student = self._students[student_number]\n",
        "          student_standing = student.calc_standing()\n",
        "          if student_standing == class_standing:\n",
        "            total_students_standing += 1\n",
        "        return total_students_standing"
      ],
      "execution_count": 0,
      "outputs": []
    },
    {
      "cell_type": "markdown",
      "metadata": {
        "id": "FICiDSCyItwl",
        "colab_type": "text"
      },
      "source": [
        "## Problem 2.1: `initializer`\n",
        "\n",
        "Implement an initializer for the class `University`. It should take in a string `name` and should set up any relevant fields you may need later on. Unlike for the `Student` class, we won't be telling you exactly what fields you might need for this, so try setting up the fields you think are necessary now and don't be afraid to come back later if you think you need something else!\n",
        "\n",
        "**Make sure all the fields you declare follow the private syntax (ie. are prefaced by _)**\n",
        "\n",
        "Once you're done with the initialized, implement `get_name`."
      ]
    },
    {
      "cell_type": "code",
      "metadata": {
        "id": "GsTo8dtUItW3",
        "colab_type": "code",
        "colab": {}
      },
      "source": [
        "# Test\n",
        "uw = University(\"University of Washington\")\n",
        "assert_equals(\"University of Washington\", uw.get_name())"
      ],
      "execution_count": 0,
      "outputs": []
    },
    {
      "cell_type": "markdown",
      "metadata": {
        "id": "4FFbfmXFK4Oz",
        "colab_type": "text"
      },
      "source": [
        "## Problem 2.2: `is_enrolled` and `enroll_student`\n",
        "\n",
        "Implement the functions `is_enrolled` and `enroll_student`. \n",
        "\n",
        "`is_enrolled` should take a student number and return True if a student matching the given student number is enrolled in the university.\n",
        "\n",
        "`enroll_student` should take a student and enroll that student in the university.\n",
        "\n",
        "You will likely need to add an extra field to your University class to get these methods to work (if you haven't already added a field that can store students).\n",
        "\n",
        "**Challenge**: Implement these functions such that both `is_enrolled` and `enroll_student` are \"fast\" (we will be talking about code efficiency later in the quarter, so don't worry too much about how we measure this now). We define \"fast\" as follows:\n",
        "* Your `is_enrolled` method is **NOT** allowed to loop through any students.\n",
        "* Your `enroll_student` method is **NOT** allowed to loop through any students.\n",
        "\n",
        "Hint: Think about some of the data structures we have covered this quarter. Can any of them help us here?\n"
      ]
    },
    {
      "cell_type": "code",
      "metadata": {
        "id": "1jS_bvN4MY9C",
        "colab_type": "code",
        "colab": {}
      },
      "source": [
        "# Test\n",
        "d = Student(\"Danny Smith\", 4564, {'CSE 142' : 4, 'Math 124' : 5, 'Chem 142' : 5})\n",
        "k = Student(\"Kira Johnson\", 4564)\n",
        "c = Student(\"Carlos Lopez\", 1774, {'Engl 111' : 5, 'ESRM 101' : 5, 'Math 125' : 5})\n",
        "\n",
        "uw = University(\"University of Washington\")\n",
        "\n",
        "# Enroll d\n",
        "assert_equals(False, uw.is_enrolled(d.get_student_number()))\n",
        "assert_equals(True, uw.enroll_student(d))\n",
        "assert_equals(True, uw.is_enrolled(d.get_student_number()))\n",
        "\n",
        "# Enroll c\n",
        "assert_equals(False, uw.is_enrolled(c.get_student_number()))\n",
        "assert_equals(True, uw.enroll_student(c))\n",
        "assert_equals(True, uw.is_enrolled(c.get_student_number()))\n",
        "\n",
        "# Enroll k (conflicting student number with d)\n",
        "assert_equals(True, uw.is_enrolled(k.get_student_number()))\n",
        "assert_equals(False, uw.enroll_student(k))\n",
        "assert_equals(True, uw.is_enrolled(k.get_student_number()))"
      ],
      "execution_count": 0,
      "outputs": []
    },
    {
      "cell_type": "markdown",
      "metadata": {
        "id": "WkkOIg1TQcKm",
        "colab_type": "text"
      },
      "source": [
        "## Problem 2.3: `num_class_standing`\n",
        "\n",
        "Implement the function `num_class_standing`. This function should take in a string representing a class standing (ie. freshman, sophomore, junior, senior) and should return the number of students at that class standing. Class standings are defined in the same way as they were in Problem 1.4\n"
      ]
    },
    {
      "cell_type": "code",
      "metadata": {
        "id": "sp4TRTrbREq_",
        "colab_type": "code",
        "colab": {}
      },
      "source": [
        "# Test\n",
        "# Create students\n",
        "s1 = Student(\"s1\", 1)\n",
        "s2 = Student(\"s2\", 2)\n",
        "s3 = Student(\"s3\", 3)\n",
        "s4 = Student(\"s4\", 4, { \"c1\":5 })\n",
        "s5 = Student(\"s5\", 5, { \"c2\":100 })\n",
        "s6 = Student(\"s5\", 6, { \"c3\":80 })\n",
        "s7 = Student(\"s5\", 7, { \"c5\":150 })\n",
        "s8 = Student(\"s5\", 8, { \"c5\":300 })\n",
        "\n",
        "# Enroll students\n",
        "uw = University(\"University of Washington\")\n",
        "uw.enroll_student(s1)\n",
        "uw.enroll_student(s2)\n",
        "uw.enroll_student(s3)\n",
        "uw.enroll_student(s4)\n",
        "uw.enroll_student(s5)\n",
        "uw.enroll_student(s6)\n",
        "uw.enroll_student(s7)\n",
        "uw.enroll_student(s8)\n",
        "\n",
        "# Test num_class_standing\n",
        "assert_equals(4, uw.num_class_standing(\"freshman\"))\n",
        "assert_equals(1, uw.num_class_standing(\"sophomore\"))\n",
        "assert_equals(1, uw.num_class_standing(\"junior\"))\n",
        "assert_equals(2, uw.num_class_standing(\"senior\"))\n",
        "assert_equals(0, uw.num_class_standing(\"random_standing\"))"
      ],
      "execution_count": 0,
      "outputs": []
    }
  ]
}